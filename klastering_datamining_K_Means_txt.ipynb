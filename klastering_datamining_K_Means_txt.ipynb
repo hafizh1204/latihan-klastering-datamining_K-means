{
  "nbformat": 4,
  "nbformat_minor": 0,
  "metadata": {
    "colab": {
      "name": "klastering-datamining_K-Means_txt.ipynb",
      "provenance": [],
      "collapsed_sections": []
    },
    "kernelspec": {
      "name": "python3",
      "display_name": "Python 3"
    },
    "language_info": {
      "name": "python"
    }
  },
  "cells": [
    {
      "cell_type": "code",
      "execution_count": 14,
      "metadata": {
        "id": "6qNcsY0qhiss"
      },
      "outputs": [],
      "source": [
        "import numpy as np\n",
        "from matplotlib import pyplot as plt\n",
        "from matplotlib.pyplot import cm\n",
        "import time\n",
        "import itertools"
      ]
    },
    {
      "cell_type": "code",
      "source": [
        "datasetPath = \"data-quiz.txt\"\n",
        "dataset = np.loadtxt(datasetPath, delimiter=\" \")"
      ],
      "metadata": {
        "id": "OG_z_xDxktHe"
      },
      "execution_count": 15,
      "outputs": []
    },
    {
      "cell_type": "code",
      "source": [
        "k = 2\n",
        "iterationCounter = 0\n",
        "input = dataset"
      ],
      "metadata": {
        "id": "M4iNH3m5lJPu"
      },
      "execution_count": 16,
      "outputs": []
    },
    {
      "cell_type": "code",
      "source": [
        "def initCentroid(dataIn, k):\n",
        "  result = dataIn[np.random.choice(dataIn.shape[0], k, replace=False)]\n",
        "  return result"
      ],
      "metadata": {
        "id": "oOVlShCWlfXN"
      },
      "execution_count": 17,
      "outputs": []
    },
    {
      "cell_type": "code",
      "source": [
        "def plotClusterResult(listClusterMembers, centroid, iteration, converged):\n",
        "    n = listClusterMembers.__len__()\n",
        "    color = iter(cm.rainbow(np.linspace(0, 1, n)))\n",
        "    plt.figure(\"figure\")\n",
        "    plt.clf()\n",
        "    plt.title(\"iteration-\" + iteration)\n",
        "    marker = itertools.cycle(('.', '*', '^', 'x', '+'))\n",
        "    for i in range(n):\n",
        "      col = next(color)\n",
        "      memberCluster = np.asmatrix(listClusterMembers[i])\n",
        "      plt.scatter(np.ravel(memberCluster[:, 0]), np.ravel(memberCluster[:, 1]),\n",
        "                  marker=marker.__next__(), s=100, c=col, label=\"klaster-\"+str(i+1))\n",
        "    for i in range(n):\n",
        "      plt.scatter((centroid[i, 0]), (centroid[i, 1]), marker=marker.__next__(),\n",
        "                  c=col, label=\"centroid-\" + str(i + 1))\n",
        "\n",
        "    if (converged == 0):\n",
        "      plt.legend()\n",
        "      plt.ion()\n",
        "      plt.show()\n",
        "      plt.pause(0.1)\n",
        "    if (converged == 1):\n",
        "      plt.legend()\n",
        "      plt.show(block=True)"
      ],
      "metadata": {
        "id": "_zV_U3d_l7UJ"
      },
      "execution_count": 18,
      "outputs": []
    },
    {
      "cell_type": "code",
      "source": [
        "def kMeans (data, centroidInit):\n",
        "  nCluster = k\n",
        "  global iterationCounter\n",
        "  centroidInit = np.matrix(centroidInit)\n",
        "\n",
        "  while (True):\n",
        "    iterationCounter += 1\n",
        "    euclideanMatrixAllCluster = np.ndarray(shape=(data.shape[0], 0))\n",
        "\n",
        "    for i in range (0, nCluster):\n",
        "      centroidRepeated = np.repeat(centroidInit[i,:], data.shape[0], axis=0)\n",
        "      deltaMatrix = abs(np.subtract(data, centroidRepeated))\n",
        "\n",
        "      euclideanMatrix = np.sqrt(np.square(deltaMatrix).sum(axis=1))\n",
        "      euclideanMatrixAllCluster = \\\n",
        "      np.concatenate((euclideanMatrixAllCluster, euclideanMatrix), axis=1)\n",
        "\n",
        "    clusterMatrix = np.ravel(np.argmin(np.matrix(euclideanMatrixAllCluster), axis=1))\n",
        "    listClusterMember = [[] for i in range(k)]\n",
        "    for i in range(0, data.shape[0]):\n",
        "      listClusterMember[np.asscalar(clusterMatrix[i])].append(data[i,:])\n",
        "    \n",
        "    newCentroid = np.ndarray(shape=(0, centroidInit.shape[1]))\n",
        "    for i in range(0, nCluster):\n",
        "      memberCluster = np.asmatrix(listClusterMember[i])\n",
        "      centroidCluster = memberCluster.mean(axis=0)\n",
        "      newCentroid = np.concatenate((newCentroid, centroidCluster), axis=0)\n",
        "    print(\"iter: \",iterationCounter)\n",
        "    print(\"centroid: \",newCentroid)\n",
        "\n",
        "    if((centroidInit == newCentroid).all()):\n",
        "      break\n",
        "\n",
        "    centroidInit = newCentroid\n",
        "\n",
        "    plotClusterResult(listClusterMember, centroidInit, str(iterationCounter), 0)\n",
        "    time.sleep(1)\n",
        "  return listClusterMember, centroidInit"
      ],
      "metadata": {
        "id": "wGfynb_M2ZA3"
      },
      "execution_count": 19,
      "outputs": []
    },
    {
      "cell_type": "code",
      "source": [
        "centroidInit = initCentroid(input, k)\n",
        "clusterResults, centroid = kMeans(input, centroidInit)\n",
        "plotClusterResult(clusterResults, centroid, str(iterationCounter)+\" (converged)\", 1)"
      ],
      "metadata": {
        "colab": {
          "base_uri": "https://localhost:8080/",
          "height": 1000
        },
        "id": "uny0e__fCdMg",
        "outputId": "21a33c76-8815-4a9a-da71-a4a8c0744467"
      },
      "execution_count": 20,
      "outputs": [
        {
          "output_type": "stream",
          "name": "stderr",
          "text": [
            "/usr/local/lib/python3.7/dist-packages/ipykernel_launcher.py:20: DeprecationWarning: np.asscalar(a) is deprecated since NumPy v1.16, use a.item() instead\n",
            "*c* argument looks like a single numeric RGB or RGBA sequence, which should be avoided as value-mapping will have precedence in case its length matches with *x* & *y*.  Please use the *color* keyword-argument or provide a 2-D array with a single row if you intend to specify the same RGB or RGBA value for all points.\n",
            "*c* argument looks like a single numeric RGB or RGBA sequence, which should be avoided as value-mapping will have precedence in case its length matches with *x* & *y*.  Please use the *color* keyword-argument or provide a 2-D array with a single row if you intend to specify the same RGB or RGBA value for all points.\n",
            "*c* argument looks like a single numeric RGB or RGBA sequence, which should be avoided as value-mapping will have precedence in case its length matches with *x* & *y*.  Please use the *color* keyword-argument or provide a 2-D array with a single row if you intend to specify the same RGB or RGBA value for all points.\n",
            "*c* argument looks like a single numeric RGB or RGBA sequence, which should be avoided as value-mapping will have precedence in case its length matches with *x* & *y*.  Please use the *color* keyword-argument or provide a 2-D array with a single row if you intend to specify the same RGB or RGBA value for all points.\n"
          ]
        },
        {
          "output_type": "stream",
          "name": "stdout",
          "text": [
            "iter:  1\n",
            "centroid:  [[3.3  4.32]\n",
            " [6.25 4.35]]\n"
          ]
        },
        {
          "output_type": "display_data",
          "data": {
            "text/plain": [
              "<Figure size 432x288 with 1 Axes>"
            ],
            "image/png": "[encoded data removed]"
          },
          "metadata": {
            "needs_background": "light"
          }
        },
        {
          "output_type": "stream",
          "name": "stderr",
          "text": [
            "*c* argument looks like a single numeric RGB or RGBA sequence, which should be avoided as value-mapping will have precedence in case its length matches with *x* & *y*.  Please use the *color* keyword-argument or provide a 2-D array with a single row if you intend to specify the same RGB or RGBA value for all points.\n",
            "*c* argument looks like a single numeric RGB or RGBA sequence, which should be avoided as value-mapping will have precedence in case its length matches with *x* & *y*.  Please use the *color* keyword-argument or provide a 2-D array with a single row if you intend to specify the same RGB or RGBA value for all points.\n",
            "*c* argument looks like a single numeric RGB or RGBA sequence, which should be avoided as value-mapping will have precedence in case its length matches with *x* & *y*.  Please use the *color* keyword-argument or provide a 2-D array with a single row if you intend to specify the same RGB or RGBA value for all points.\n"
          ]
        },
        {
          "output_type": "stream",
          "name": "stdout",
          "text": [
            "iter:  2\n",
            "centroid:  [[2.625      4.825     ]\n",
            " [6.16666667 3.66666667]]\n"
          ]
        },
        {
          "output_type": "display_data",
          "data": {
            "text/plain": [
              "<Figure size 432x288 with 1 Axes>"
            ],
            "image/png": "[encoded data removed]"
          },
          "metadata": {
            "needs_background": "light"
          }
        },
        {
          "output_type": "stream",
          "name": "stderr",
          "text": [
            "*c* argument looks like a single numeric RGB or RGBA sequence, which should be avoided as value-mapping will have precedence in case its length matches with *x* & *y*.  Please use the *color* keyword-argument or provide a 2-D array with a single row if you intend to specify the same RGB or RGBA value for all points.\n",
            "*c* argument looks like a single numeric RGB or RGBA sequence, which should be avoided as value-mapping will have precedence in case its length matches with *x* & *y*.  Please use the *color* keyword-argument or provide a 2-D array with a single row if you intend to specify the same RGB or RGBA value for all points.\n",
            "*c* argument looks like a single numeric RGB or RGBA sequence, which should be avoided as value-mapping will have precedence in case its length matches with *x* & *y*.  Please use the *color* keyword-argument or provide a 2-D array with a single row if you intend to specify the same RGB or RGBA value for all points.\n"
          ]
        },
        {
          "output_type": "stream",
          "name": "stdout",
          "text": [
            "iter:  3\n",
            "centroid:  [[2.625      4.825     ]\n",
            " [6.16666667 3.66666667]]\n"
          ]
        },
        {
          "output_type": "display_data",
          "data": {
            "text/plain": [
              "<Figure size 432x288 with 1 Axes>"
            ],
            "image/png": "[encoded data removed]"
          },
          "metadata": {
            "needs_background": "light"
          }
        }
      ]
    }
  ]
}